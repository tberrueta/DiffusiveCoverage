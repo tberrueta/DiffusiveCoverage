{
 "cells": [
  {
   "cell_type": "markdown",
   "metadata": {},
   "source": [
    "# Model-Predictive Path Integral Control Example"
   ]
  },
  {
   "cell_type": "code",
   "execution_count": null,
   "metadata": {},
   "outputs": [],
   "source": [
    "%load_ext autoreload\n",
    "%autoreload 2"
   ]
  },
  {
   "cell_type": "markdown",
   "metadata": {},
   "source": [
    "## Imports and Parameters"
   ]
  },
  {
   "cell_type": "code",
   "execution_count": 459,
   "metadata": {},
   "outputs": [],
   "source": [
    "import time\n",
    "from utils import * # imports integrators and other useful things\n",
    "from system import * # imports system dynamics and objective\n",
    "from MPPI import MPPI # imports controller\n",
    "import matplotlib.pyplot as plt\n",
    "# %matplotlib widget\n",
    "\n",
    "###################\n",
    "# System parameters\n",
    "# x0 = np.array([0,0])\n",
    "# x0 = np.array([0,0,np.pi/3.0])\n",
    "x0 = np.array([0,0,0,0])\n",
    "del_t = 0.2 # 0.05 was good for diff, 0.2 for others\n",
    "w_sz = 15\n",
    "ov = 1\n",
    "# dyn = lambda x, u: single_int(x,u) \n",
    "dyn = lambda x, u: double_int(x,u) \n",
    "# dyn = lambda x, u: diff_drive(x,u) \n",
    "\n",
    "######################\n",
    "# Objective parameters\n",
    "R = 0.1*np.diag([1.0,1.0])\n",
    "# xd = np.array([5,2])\n",
    "# Q = np.diag([1,1])\n",
    "# xd = np.array([5.,2.,0.])\n",
    "# Q = np.diag([1,1,.01])\n",
    "# R = None\n",
    "u0 = np.array([0.1, 0.1])\n",
    "mean1 = np.array([-1.5,-1.5])\n",
    "mean2 = np.array([1.5, 1.5])\n",
    "cov1 = 1.*np.diag([1, 1])\n",
    "cov2 = 1.*np.diag([1, 1])\n",
    "w1 = 20.0 # weight given to tracking objective, 20 worked for single int, 1 worked for diff\n",
    "w2 = -5.0 # weight given to rattling objective, -5 worked for single int, -70 worked for diff \n",
    "# obj = lambda x, u: quadratic_objective(x,u,xd,Q,R)\n",
    "# obj = lambda x, u: quadratic_rattling_objective(x, u, del_t, w1, w2, None, w_sz, ov, xd, Q, R)\n",
    "obj = lambda x, u: bimodal_rattling_objective(x[:2,:], u, mean1, cov1, mean2, cov2, del_t, w1, w2, w_sz, ov, R)\n",
    "# obj = lambda x, u: bimodal_rattling_objective(x, u, mean1, cov1, mean2, cov2, del_t, w1, w2, w_sz, ov, R)\n",
    "\n",
    "#######################\n",
    "# Controller parameters\n",
    "noise_mean = np.array([0.0, 0.0])\n",
    "noise_var = 5.0*np.diag([1.0, 1.0]) # 5 worked for diff, 2 for others\n",
    "samp_num = 40 # 100 was good for diff\n",
    "predictive_horizon = 30 # 100 was good for diff\n",
    "simulation_length = 400 # 1000 was good for diff\n",
    "Temp = 1.0"
   ]
  },
  {
   "cell_type": "markdown",
   "metadata": {},
   "source": [
    "## Initialize Controller"
   ]
  },
  {
   "cell_type": "code",
   "execution_count": 460,
   "metadata": {},
   "outputs": [],
   "source": [
    "controller = MPPI(dyn, obj, x0, u0, K=samp_num, N=predictive_horizon, dt=del_t, lamb=Temp, noise_mu=noise_mean, noise_sigma=noise_var)"
   ]
  },
  {
   "cell_type": "markdown",
   "metadata": {},
   "source": [
    "## Main Loop"
   ]
  },
  {
   "cell_type": "code",
   "execution_count": 461,
   "metadata": {},
   "outputs": [
    {
     "name": "stdout",
     "output_type": "stream",
     "text": [
      "25% complete. Time elapsed: 13.77s.\n",
      "50% complete. Time elapsed: 27.95s.\n",
      "75% complete. Time elapsed: 41.66s.\n",
      "100% complete. Time elapsed: 55.74s.\n"
     ]
    }
   ],
   "source": [
    "tic = time.time()\n",
    "xlist = []\n",
    "ulist = []\n",
    "costlist = []\n",
    "for i in range(simulation_length):\n",
    "    u_star = controller.step(x0)[:,0]\n",
    "#     u_star = np.random.multivariate_normal(noise_mean, noise_var)\n",
    "    x = integrate(dyn,x0,u_star,del_t)\n",
    "    x0 = np.copy(x)\n",
    "    xlist.append(x0)\n",
    "    ulist.append(u_star)\n",
    "    costlist.append(np.mean(controller.cost_total))\n",
    "    if (i+1) % int(simulation_length/4.0) == 0:\n",
    "        print(str(int(100.0*((float(i+1)/float(simulation_length)))))+\"% complete. Time elapsed: \"+str(np.round(time.time()-tic,2))+\"s.\")\n",
    "xtraj = np.array(xlist).T\n",
    "utraj = np.array(ulist).T"
   ]
  },
  {
   "cell_type": "markdown",
   "metadata": {},
   "source": [
    "## Plot"
   ]
  },
  {
   "cell_type": "code",
   "execution_count": 462,
   "metadata": {},
   "outputs": [
    {
     "data": {
      "application/vnd.jupyter.widget-view+json": {
       "model_id": "1ad7dcc44bb24e548799d8549a890e21",
       "version_major": 2,
       "version_minor": 0
      },
      "text/plain": [
       "Canvas(toolbar=Toolbar(toolitems=[('Home', 'Reset original view', 'home', 'home'), ('Back', 'Back to previous …"
      ]
     },
     "metadata": {},
     "output_type": "display_data"
    }
   ],
   "source": [
    "fun = lambda x: bimodal_objective(x, mean1, cov1, mean2, cov2)\n",
    "XY = np.zeros((100,100))\n",
    "v = np.linspace(-5,5,100)\n",
    "for i in range(len(v)):\n",
    "    for j in range(len(v)):\n",
    "        XY[i,j] = w1*fun(np.array([v[i],v[j]]))\n",
    "        \n",
    "plt.figure()\n",
    "plt.imshow(np.flip(XY,axis=1),cmap=\"gist_gray\",extent=[-5,5,-5,5])\n",
    "# plt.scatter(xtraj[0], xtraj[1], s=15, alpha=0.5)\n",
    "plt.plot(xtraj[0], xtraj[1])\n",
    "plt.xlim([-5,5])\n",
    "plt.ylim([-5,5])\n",
    "# plt.xlabel(\"x\")\n",
    "# plt.xlabel(\"y\")\n",
    "plt.axis(\"off\")\n",
    "plt.tight_layout()\n",
    "plt.show()"
   ]
  },
  {
   "cell_type": "code",
   "execution_count": 463,
   "metadata": {},
   "outputs": [
    {
     "data": {
      "application/vnd.jupyter.widget-view+json": {
       "model_id": "22a4fcdc241c460faac4e2a73270854c",
       "version_major": 2,
       "version_minor": 0
      },
      "text/plain": [
       "Canvas(toolbar=Toolbar(toolitems=[('Home', 'Reset original view', 'home', 'home'), ('Back', 'Back to previous …"
      ]
     },
     "metadata": {},
     "output_type": "display_data"
    }
   ],
   "source": [
    "tvec = np.linspace(0,simulation_length*del_t,simulation_length)\n",
    "plt.figure()\n",
    "plt.subplot(2,1,1)\n",
    "plt.plot(tvec,xtraj[0])\n",
    "plt.plot([tvec[0],tvec[-1]],[mean1[0], mean1[0]],'k--')\n",
    "plt.plot([tvec[0],tvec[-1]],[mean2[0], mean2[0]],'k--')\n",
    "plt.xlim([tvec[0],tvec[-1]])\n",
    "# plt.ylim([-1.5,1.5])\n",
    "plt.ylabel('x')\n",
    "plt.subplot(2,1,2)\n",
    "plt.plot(tvec,xtraj[1])\n",
    "plt.plot([tvec[0],tvec[-1]],[mean1[1], mean1[1]],'k--')\n",
    "plt.plot([tvec[0],tvec[-1]],[mean2[1], mean2[1]],'k--')\n",
    "plt.xlim([tvec[0],tvec[-1]])\n",
    "# plt.ylim([-1.5,1.5])\n",
    "plt.ylabel('y')\n",
    "plt.xlabel('Time (s)')\n",
    "plt.show()"
   ]
  },
  {
   "cell_type": "code",
   "execution_count": 464,
   "metadata": {},
   "outputs": [
    {
     "data": {
      "application/vnd.jupyter.widget-view+json": {
       "model_id": "0feeef24dc3b428dba58d9a9a13e11f2",
       "version_major": 2,
       "version_minor": 0
      },
      "text/plain": [
       "Canvas(toolbar=Toolbar(toolitems=[('Home', 'Reset original view', 'home', 'home'), ('Back', 'Back to previous …"
      ]
     },
     "metadata": {},
     "output_type": "display_data"
    }
   ],
   "source": [
    "plt.figure()\n",
    "rv = rattling_windows(xtraj.T, del_t, w_sz, ov)[0]\n",
    "tvec = np.linspace(0,len(rv)*del_t,len(rv))\n",
    "plt.plot(tvec,rv)\n",
    "plt.ylabel('Rattling')\n",
    "plt.xlabel('Time (s)')\n",
    "plt.xlim([tvec[0],tvec[-1]])\n",
    "plt.grid(True)\n",
    "plt.show()"
   ]
  },
  {
   "cell_type": "code",
   "execution_count": 465,
   "metadata": {},
   "outputs": [
    {
     "data": {
      "application/vnd.jupyter.widget-view+json": {
       "model_id": "25454ebe9ac746ffb66df6fd0f81beef",
       "version_major": 2,
       "version_minor": 0
      },
      "text/plain": [
       "Canvas(toolbar=Toolbar(toolitems=[('Home', 'Reset original view', 'home', 'home'), ('Back', 'Back to previous …"
      ]
     },
     "metadata": {},
     "output_type": "display_data"
    }
   ],
   "source": [
    "MSDList = []\n",
    "tauList = list(range(0,int(50.0/del_t)))\n",
    "for tau in tauList:\n",
    "    MSDList.append(MSD(xtraj[:2],tau))\n",
    "    \n",
    "plt.figure()\n",
    "plt.plot(del_t*np.array(tauList),MSDList,linewidth=3)\n",
    "# plt.plot(del_t*np.array(tauList),0.2*(del_t*np.array(tauList)),'r--')\n",
    "# plt.plot(del_t*np.array(tauList),10*(del_t*np.array(tauList))**2,'r--')\n",
    "plt.ylabel(\"MSD\")\n",
    "plt.xlabel(r\"$\\tau (s)$\")\n",
    "plt.xlim([del_t,del_t*np.max(tauList)])\n",
    "plt.gca().set_xscale(\"log\")\n",
    "plt.gca().set_yscale(\"log\")\n",
    "plt.grid(True)\n",
    "plt.show()"
   ]
  },
  {
   "cell_type": "code",
   "execution_count": 466,
   "metadata": {},
   "outputs": [
    {
     "data": {
      "application/vnd.jupyter.widget-view+json": {
       "model_id": "a72e417571c8431ca5af51d70b7f1582",
       "version_major": 2,
       "version_minor": 0
      },
      "text/plain": [
       "Canvas(toolbar=Toolbar(toolitems=[('Home', 'Reset original view', 'home', 'home'), ('Back', 'Back to previous …"
      ]
     },
     "metadata": {},
     "output_type": "display_data"
    }
   ],
   "source": [
    "tvec = np.linspace(0,simulation_length*del_t,simulation_length)\n",
    "plt.figure()\n",
    "plt.plot(tvec,utraj[0])\n",
    "plt.plot(tvec,utraj[1])\n",
    "plt.xlim([tvec[0],tvec[-1]])\n",
    "plt.ylabel('Control')\n",
    "plt.xlabel('Time (s)')\n",
    "plt.show()"
   ]
  },
  {
   "cell_type": "code",
   "execution_count": 467,
   "metadata": {},
   "outputs": [
    {
     "data": {
      "application/vnd.jupyter.widget-view+json": {
       "model_id": "b48aed8152e54abc8a9c8f5209693176",
       "version_major": 2,
       "version_minor": 0
      },
      "text/plain": [
       "Canvas(toolbar=Toolbar(toolitems=[('Home', 'Reset original view', 'home', 'home'), ('Back', 'Back to previous …"
      ]
     },
     "metadata": {},
     "output_type": "display_data"
    }
   ],
   "source": [
    "tvec = np.linspace(0,simulation_length*del_t,simulation_length)\n",
    "plt.figure()\n",
    "plt.plot(tvec,costlist)\n",
    "plt.ylabel('Average Cost')\n",
    "plt.xlabel('Time (s)')\n",
    "plt.xlim([tvec[0],tvec[-1]])\n",
    "plt.grid(True)\n",
    "plt.show()"
   ]
  },
  {
   "cell_type": "code",
   "execution_count": 468,
   "metadata": {},
   "outputs": [
    {
     "data": {
      "application/vnd.jupyter.widget-view+json": {
       "model_id": "08def018403947f09cccedfc018e6f4d",
       "version_major": 2,
       "version_minor": 0
      },
      "text/plain": [
       "Canvas(toolbar=Toolbar(toolitems=[('Home', 'Reset original view', 'home', 'home'), ('Back', 'Back to previous …"
      ]
     },
     "metadata": {},
     "output_type": "display_data"
    }
   ],
   "source": [
    "tvec = np.linspace(0,simulation_length*del_t,simulation_length)\n",
    "plt.figure()\n",
    "c=0\n",
    "clist=[]\n",
    "for i in range(utraj.shape[1]):\n",
    "    c += np.sqrt(utraj[0,i]**2+utraj[0,i]**2)\n",
    "    clist.append(c)\n",
    "plt.plot(tvec,clist)\n",
    "plt.ylabel('Integrated Control Effort')\n",
    "plt.xlabel('Time (s)')\n",
    "plt.xlim([tvec[0],tvec[-1]])\n",
    "plt.grid(True)\n",
    "plt.show()"
   ]
  },
  {
   "cell_type": "code",
   "execution_count": 450,
   "metadata": {},
   "outputs": [],
   "source": [
    "# plt.close('all')"
   ]
  }
 ],
 "metadata": {
  "kernelspec": {
   "display_name": "Python 3",
   "language": "python",
   "name": "python3"
  },
  "language_info": {
   "codemirror_mode": {
    "name": "ipython",
    "version": 3
   },
   "file_extension": ".py",
   "mimetype": "text/x-python",
   "name": "python",
   "nbconvert_exporter": "python",
   "pygments_lexer": "ipython3",
   "version": "3.8.5"
  }
 },
 "nbformat": 4,
 "nbformat_minor": 4
}
